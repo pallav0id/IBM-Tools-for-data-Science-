{
 "cells": [
  {
   "attachments": {},
   "cell_type": "markdown",
   "id": "827075ae",
   "metadata": {},
   "source": [
    "# Data Science Tools and Ecosystem"
   ]
  },
  {
   "cell_type": "markdown",
   "id": "769e6951",
   "metadata": {},
   "source": [
    "## Introduction\n",
    "In this notebook, Data Science Tools and Ecosystem are summerized.\n",
    "### Objectives:\n",
    "- List of popular languages used in data data science.\n",
    "- List of common libraries used by data scientists.\n",
    "- Data science tools and open source tools.\n",
    "- Introduction to arithematic expression in Python.\n",
    "- Conversion using arithematic expressions in python.\n"
   ]
  },
  {
   "cell_type": "markdown",
   "id": "72b886c3",
   "metadata": {},
   "source": [
    "### Data Science languages\n",
    "Some of the popular data science languages are:\n",
    "1. Python\n",
    "2. R \n",
    "3. SQL\n",
    "4. Julia\n"
   ]
  },
  {
   "cell_type": "markdown",
   "id": "9371801c",
   "metadata": {},
   "source": [
    "### Commonly used Data Science Libraries for Python\n",
    "\n",
    "1. **NumPy**: Numerical computing library for handling arrays and matrices.\n",
    "2. **pandas**: Data manipulation and analysis library with DataFrame support.\n",
    "3. **Matplotlib**: Data visualization library for creating static, interactive, and animated visualizations.\n",
    "4. **Seaborn**: Statistical data visualization based on Matplotlib, with higher-level functions.\n",
    "5. **scikit-learn**: Machine learning library with tools for classification, regression, clustering, and more.\n",
    "6. **TensorFlow**: Open-source machine learning framework developed by Google for deep learning models.\n",
    "7. **PyTorch**: Open-source machine learning framework known for its dynamic computation graph.\n",
    "8. **SciPy**: Library for mathematics, science, and engineering with modules for optimization, integration, interpolation, etc.\n",
    "9. **Statsmodels**: Library for estimating and interpreting statistical models.\n",
    "10. **NLTK (Natural Language Toolkit)**: Library for working with human language data.\n",
    "\n",
    "Feel free to explore and utilize these libraries for various data science tasks!\n"
   ]
  },
  {
   "cell_type": "markdown",
   "id": "e2a8e976",
   "metadata": {},
   "source": [
    "### Data Science Tools\n",
    "\n",
    "| Data Science Tools |\n",
    "|--------------------|\n",
    "| Jupyter Notebook   |\n",
    "| RStudio            |\n",
    "| Visual Studio Code |\n",
    "\n",
    "These open-source tools are widely used in data science for development, coding, and analysis.\n"
   ]
  },
  {
   "cell_type": "markdown",
   "id": "237187e9",
   "metadata": {},
   "source": [
    "### Introducing Arithmetic Expression Examples\n",
    "\n",
    "Below are a few examples of evaluating arithmetic expressions in Python:\n",
    "\n",
    "1. Addition:\n",
    "   ```python\n",
    "   result = 3 + 5\n",
    "   print(result)  # Output: 8\n"
   ]
  },
  {
   "cell_type": "code",
   "execution_count": 1,
   "id": "74842d78",
   "metadata": {},
   "outputs": [
    {
     "name": "stdout",
     "output_type": "stream",
     "text": [
      "17\n"
     ]
    }
   ],
   "source": [
    "# This is a simple arithmetic expression to multiply then add integers.\n",
    "result = (3 * 4) + 5\n",
    "print(result)  # Expected output: 17\n"
   ]
  },
  {
   "cell_type": "code",
   "execution_count": 2,
   "id": "394e9eca",
   "metadata": {},
   "outputs": [
    {
     "name": "stdout",
     "output_type": "stream",
     "text": [
      "3.3333333333333335\n"
     ]
    }
   ],
   "source": [
    "# This will convert 200 minutes to hours by dividing by 60.\n",
    "minutes = 200\n",
    "hours = minutes / 60\n",
    "print(hours)  # Expected output: 3.3333333333333335\n"
   ]
  },
  {
   "cell_type": "markdown",
   "id": "ae5b1810",
   "metadata": {},
   "source": [
    "## Author\n",
    "Pallavi"
   ]
  },
  {
   "cell_type": "code",
   "execution_count": null,
   "id": "ed78b236",
   "metadata": {},
   "outputs": [],
   "source": []
  }
 ],
 "metadata": {
  "kernelspec": {
   "display_name": "Python 3 (ipykernel)",
   "language": "python",
   "name": "python3"
  },
  "language_info": {
   "codemirror_mode": {
    "name": "ipython",
    "version": 3
   },
   "file_extension": ".py",
   "mimetype": "text/x-python",
   "name": "python",
   "nbconvert_exporter": "python",
   "pygments_lexer": "ipython3",
   "version": "3.11.4"
  }
 },
 "nbformat": 4,
 "nbformat_minor": 5
}
